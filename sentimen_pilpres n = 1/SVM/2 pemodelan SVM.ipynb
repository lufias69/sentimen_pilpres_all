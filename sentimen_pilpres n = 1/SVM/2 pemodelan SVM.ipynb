{
 "cells": [
  {
   "cell_type": "code",
   "execution_count": 1,
   "metadata": {},
   "outputs": [],
   "source": [
    "import pandas as pd\n",
    "import joblib"
   ]
  },
  {
   "cell_type": "code",
   "execution_count": 3,
   "metadata": {},
   "outputs": [
    {
     "data": {
      "text/html": [
       "<div>\n",
       "<style scoped>\n",
       "    .dataframe tbody tr th:only-of-type {\n",
       "        vertical-align: middle;\n",
       "    }\n",
       "\n",
       "    .dataframe tbody tr th {\n",
       "        vertical-align: top;\n",
       "    }\n",
       "\n",
       "    .dataframe thead th {\n",
       "        text-align: right;\n",
       "    }\n",
       "</style>\n",
       "<table border=\"1\" class=\"dataframe\">\n",
       "  <thead>\n",
       "    <tr style=\"text-align: right;\">\n",
       "      <th></th>\n",
       "      <th>Unnamed: 0</th>\n",
       "      <th>tweet</th>\n",
       "      <th>label</th>\n",
       "    </tr>\n",
       "  </thead>\n",
       "  <tbody>\n",
       "    <tr>\n",
       "      <td>0</td>\n",
       "      <td>0</td>\n",
       "      <td>buka visi misi begitu pukau sehingga buat pres...</td>\n",
       "      <td>positive</td>\n",
       "    </tr>\n",
       "    <tr>\n",
       "      <td>1</td>\n",
       "      <td>1</td>\n",
       "      <td>lebih baik pakai teknologi lama kaya negara in...</td>\n",
       "      <td>positive</td>\n",
       "    </tr>\n",
       "    <tr>\n",
       "      <td>2</td>\n",
       "      <td>2</td>\n",
       "      <td>kok arguing without menang</td>\n",
       "      <td>positive</td>\n",
       "    </tr>\n",
       "    <tr>\n",
       "      <td>3</td>\n",
       "      <td>3</td>\n",
       "      <td>jalan politik politik satu bukan politik pecah...</td>\n",
       "      <td>positive</td>\n",
       "    </tr>\n",
       "    <tr>\n",
       "      <td>4</td>\n",
       "      <td>4</td>\n",
       "      <td>juga fans lihat tampil serang hahaha</td>\n",
       "      <td>negative</td>\n",
       "    </tr>\n",
       "  </tbody>\n",
       "</table>\n",
       "</div>"
      ],
      "text/plain": [
       "   Unnamed: 0                                              tweet     label\n",
       "0           0  buka visi misi begitu pukau sehingga buat pres...  positive\n",
       "1           1  lebih baik pakai teknologi lama kaya negara in...  positive\n",
       "2           2                         kok arguing without menang  positive\n",
       "3           3  jalan politik politik satu bukan politik pecah...  positive\n",
       "4           4               juga fans lihat tampil serang hahaha  negative"
      ]
     },
     "execution_count": 3,
     "metadata": {},
     "output_type": "execute_result"
    }
   ],
   "source": [
    "df = pd.read_excel(\"data/tweet_bersih_100.xlsx\")\n",
    "twet = df.tweet.tolist()\n",
    "label = df.label.tolist()\n",
    "df.head()"
   ]
  },
  {
   "cell_type": "code",
   "execution_count": 5,
   "metadata": {},
   "outputs": [
    {
     "name": "stdout",
     "output_type": "stream",
     "text": [
      "negative    500\n",
      "positive    500\n",
      "Name: label, dtype: int64\n"
     ]
    },
    {
     "data": {
      "image/png": "[encoded data removed]",
      "text/plain": [
       "<Figure size 432x288 with 1 Axes>"
      ]
     },
     "metadata": {
      "needs_background": "light"
     },
     "output_type": "display_data"
    }
   ],
   "source": [
    "pd.value_counts(df['label']).plot.bar(title='Data Sentimen')\n",
    "print(pd.value_counts(df['label']))"
   ]
  },
  {
   "cell_type": "markdown",
   "metadata": {},
   "source": [
    "# Pembagian data & pemodelan"
   ]
  },
  {
   "cell_type": "code",
   "execution_count": 6,
   "metadata": {},
   "outputs": [],
   "source": [
    "import numpy as np\n",
    "from sklearn.model_selection import KFold\n",
    "from sklearn import svm"
   ]
  },
  {
   "cell_type": "code",
   "execution_count": 7,
   "metadata": {},
   "outputs": [],
   "source": [
    "from sklearn.feature_extraction.text import TfidfVectorizer\n",
    "corpus = twet\n",
    "vectorizer = TfidfVectorizer()\n",
    "save = vectorizer.fit(corpus)\n",
    "joblib.dump(save,\"model/tdidf.w\")\n",
    "X = vectorizer.fit_transform(corpus)"
   ]
  },
  {
   "cell_type": "code",
   "execution_count": 8,
   "metadata": {},
   "outputs": [],
   "source": [
    "fitur = vectorizer.get_feature_names()\n",
    "dffd = pd.DataFrame.from_dict({\"kata\":fitur})\n",
    "dffd.to_excel(\"list_kata.xlsx\")"
   ]
  },
  {
   "cell_type": "code",
   "execution_count": 9,
   "metadata": {},
   "outputs": [
    {
     "name": "stdout",
     "output_type": "stream",
     "text": [
      "...................................................................................................100\n",
      "...................................................................................................200\n",
      "...................................................................................................300\n",
      "...................................................................................................400\n"
     ]
    },
    {
     "data": {
      "text/html": [
       "<div>\n",
       "<style scoped>\n",
       "    .dataframe tbody tr th:only-of-type {\n",
       "        vertical-align: middle;\n",
       "    }\n",
       "\n",
       "    .dataframe tbody tr th {\n",
       "        vertical-align: top;\n",
       "    }\n",
       "\n",
       "    .dataframe thead th {\n",
       "        text-align: right;\n",
       "    }\n",
       "</style>\n",
       "<table border=\"1\" class=\"dataframe\">\n",
       "  <thead>\n",
       "    <tr style=\"text-align: right;\">\n",
       "      <th></th>\n",
       "      <th>C</th>\n",
       "      <th>gamma</th>\n",
       "      <th>score</th>\n",
       "    </tr>\n",
       "  </thead>\n",
       "  <tbody>\n",
       "    <tr>\n",
       "      <td>287</td>\n",
       "      <td>1.5</td>\n",
       "      <td>0.8</td>\n",
       "      <td>0.784</td>\n",
       "    </tr>\n",
       "    <tr>\n",
       "      <td>390</td>\n",
       "      <td>2.0</td>\n",
       "      <td>1.1</td>\n",
       "      <td>0.783</td>\n",
       "    </tr>\n",
       "    <tr>\n",
       "      <td>386</td>\n",
       "      <td>2.0</td>\n",
       "      <td>0.7</td>\n",
       "      <td>0.783</td>\n",
       "    </tr>\n",
       "    <tr>\n",
       "      <td>249</td>\n",
       "      <td>1.3</td>\n",
       "      <td>1.0</td>\n",
       "      <td>0.783</td>\n",
       "    </tr>\n",
       "    <tr>\n",
       "      <td>230</td>\n",
       "      <td>1.2</td>\n",
       "      <td>1.1</td>\n",
       "      <td>0.782</td>\n",
       "    </tr>\n",
       "    <tr>\n",
       "      <td>250</td>\n",
       "      <td>1.3</td>\n",
       "      <td>1.1</td>\n",
       "      <td>0.782</td>\n",
       "    </tr>\n",
       "    <tr>\n",
       "      <td>289</td>\n",
       "      <td>1.5</td>\n",
       "      <td>1.0</td>\n",
       "      <td>0.782</td>\n",
       "    </tr>\n",
       "    <tr>\n",
       "      <td>288</td>\n",
       "      <td>1.5</td>\n",
       "      <td>0.9</td>\n",
       "      <td>0.782</td>\n",
       "    </tr>\n",
       "    <tr>\n",
       "      <td>304</td>\n",
       "      <td>1.6</td>\n",
       "      <td>0.5</td>\n",
       "      <td>0.782</td>\n",
       "    </tr>\n",
       "    <tr>\n",
       "      <td>268</td>\n",
       "      <td>1.4</td>\n",
       "      <td>0.9</td>\n",
       "      <td>0.782</td>\n",
       "    </tr>\n",
       "  </tbody>\n",
       "</table>\n",
       "</div>"
      ],
      "text/plain": [
       "       C  gamma  score\n",
       "287  1.5    0.8  0.784\n",
       "390  2.0    1.1  0.783\n",
       "386  2.0    0.7  0.783\n",
       "249  1.3    1.0  0.783\n",
       "230  1.2    1.1  0.782\n",
       "250  1.3    1.1  0.782\n",
       "289  1.5    1.0  0.782\n",
       "288  1.5    0.9  0.782\n",
       "304  1.6    0.5  0.782\n",
       "268  1.4    0.9  0.782"
      ]
     },
     "execution_count": 9,
     "metadata": {},
     "output_type": "execute_result"
    }
   ],
   "source": [
    "k = 10\n",
    "y = np.array(label)\n",
    "kf = KFold(n_splits=k)\n",
    "kf.get_n_splits(X)\n",
    "# print(kf)\n",
    "C_list     = np.arange(0.1, 2+0.1, 0.1)\n",
    "gamma_list = np.arange(0.1, 2+0.1, 0.1)\n",
    "\n",
    "C_list_ = list()\n",
    "gamma_list_ = list()\n",
    "rerata = list()\n",
    "ix=1\n",
    "for C in C_list:\n",
    "    for gamma in gamma_list:\n",
    "        C_list_.append(C)\n",
    "        gamma_list_.append(gamma)\n",
    "        \n",
    "        clf = svm.SVC(kernel = \"rbf\", C = C, gamma=gamma)\n",
    "        sc_10 = list()\n",
    "        for train_index, test_index in kf.split(X):\n",
    "        #     print(\"TRAIN:\", train_index, \"TEST:\", test_index)\n",
    "            X_train, X_test = X[train_index], X[test_index]\n",
    "            y_train, y_test = y[train_index], y[test_index]\n",
    "            clf.fit(X_train, y_train)\n",
    "    #         clf.fit(X, y)\n",
    "            sc = clf.score(X_test, y_test)\n",
    "            sc_10.append(sc)\n",
    "            \n",
    "        if ix%100==0:\n",
    "            print(ix)\n",
    "        else:\n",
    "            print(\".\", end=\"\")\n",
    "        ix+=1\n",
    "            \n",
    "        rerata.append(sum(sc_10)/k)\n",
    "dict_ = {\n",
    "    \"C\":C_list_,\n",
    "    \"gamma\":gamma_list_,\n",
    "    \"score\":rerata\n",
    "}\n",
    "df_hasil = pd.DataFrame.from_dict(dict_)\n",
    "sorted_ = df_hasil.sort_values(\"score\", axis = 0, ascending = False)\n",
    "sorted_.head(10)"
   ]
  },
  {
   "cell_type": "code",
   "execution_count": 10,
   "metadata": {},
   "outputs": [
    {
     "data": {
      "text/plain": [
       "400"
      ]
     },
     "execution_count": 10,
     "metadata": {},
     "output_type": "execute_result"
    }
   ],
   "source": [
    "len(C_list_)"
   ]
  },
  {
   "cell_type": "code",
   "execution_count": 11,
   "metadata": {},
   "outputs": [
    {
     "data": {
      "text/plain": [
       "0.8"
      ]
     },
     "execution_count": 11,
     "metadata": {},
     "output_type": "execute_result"
    }
   ],
   "source": [
    "sorted_.gamma.tolist()[0]"
   ]
  },
  {
   "cell_type": "code",
   "execution_count": 10,
   "metadata": {},
   "outputs": [],
   "source": [
    "# clf = svm.SVC(kernel = \"rbf\", C = 1, gamma=1)\n",
    "# clf.fit(X, y)  "
   ]
  },
  {
   "cell_type": "code",
   "execution_count": 12,
   "metadata": {},
   "outputs": [
    {
     "data": {
      "text/plain": [
       "['model/svm.m']"
      ]
     },
     "execution_count": 12,
     "metadata": {},
     "output_type": "execute_result"
    }
   ],
   "source": [
    "clf = clf = svm.SVC(kernel = \"rbf\", C = sorted_.C.tolist()[0], gamma=sorted_.gamma.tolist()[0])\n",
    "save = clf.fit(X_train, y_train)\n",
    "joblib.dump(save,\"model/svm.m\")"
   ]
  },
  {
   "cell_type": "code",
   "execution_count": 13,
   "metadata": {},
   "outputs": [
    {
     "data": {
      "text/plain": [
       "0.975"
      ]
     },
     "execution_count": 13,
     "metadata": {},
     "output_type": "execute_result"
    }
   ],
   "source": [
    "save.score(X, y) #0.9761668321747765     0.958"
   ]
  },
  {
   "cell_type": "code",
   "execution_count": 14,
   "metadata": {},
   "outputs": [],
   "source": [
    "x = save.predict(X)"
   ]
  },
  {
   "cell_type": "code",
   "execution_count": 15,
   "metadata": {},
   "outputs": [
    {
     "name": "stdout",
     "output_type": "stream",
     "text": [
      "541\n",
      "negative\n",
      "label asli positive\n",
      "tidak paham ekonomi investasi asing lingkup bisnis di-framing olah negara asai asing cara militan\n",
      "\n",
      "642\n",
      "positive\n",
      "label asli negative\n",
      "perintah dil digital layan sangat perlu\n",
      "\n",
      "830\n",
      "positive\n",
      "label asli negative\n",
      "pak all keluar debat malam semua umpan lawan lahap habis bahkan jawab kerap jadi serang balik\n",
      "\n",
      "858\n",
      "positive\n",
      "label asli negative\n",
      "apresiasi saudara 2 di papua pakde jadi percuma kalian tebar bohong papua derita\n",
      "\n",
      "882\n",
      "positive\n",
      "label asli negative\n",
      "lama kawan lalu musuh lama tetangga lalu tak saling bicara semua karena beda pilih\n",
      "\n",
      "888\n",
      "positive\n",
      "label asli negative\n",
      "rantai sahabat pak pak akan putus 2 debatpilpres 2019 dengerin tuh tkn-bpn cebong kampret\n",
      "\n",
      "893\n",
      "positive\n",
      "label asli negative\n",
      "jangan pilih pimpin bohong ingkar janji provokasi rakyat kacang lupa kulit pilih pimpin jujur\n",
      "\n",
      "931\n",
      "positive\n",
      "label asli negative\n",
      "bukan percaya mampu tni harus tni siap the worst scenario lindung indonesia prabowo\n",
      "\n",
      "948\n",
      "positive\n",
      "label asli negative\n",
      "kesi tuh si engkong g mau pilih kong prabowobentengnkri prabowobentengnkri\n",
      "\n",
      "953\n",
      "positive\n",
      "label asli negative\n",
      "pak upaya masyarakat sulit tarik pungli urus segala\n",
      "\n",
      "959\n",
      "positive\n",
      "label asli negative\n",
      "berangkat kerja naik taksi kepala pusing bawa motor jaman susah korupsi padahal banyak harus setor\n",
      "\n",
      "960\n",
      "positive\n",
      "label asli negative\n",
      "panjang debat lihat goyah argumen kokoh tak yakin\n",
      "\n",
      "966\n",
      "positive\n",
      "label asli negative\n",
      "calon presiden nomor urut 02 khawatir kalau semua labuh bandara operate usaha asing\n",
      "\n",
      "968\n",
      "positive\n",
      "label asli negative\n",
      "mantap keren moga ikut seluruh pelosok nusantara\n",
      "\n",
      "969\n",
      "positive\n",
      "label asli negative\n",
      "pns pilih sulit laku pungli anggar potong ketat anggar\n",
      "\n",
      "971\n",
      "positive\n",
      "label asli negative\n",
      "pilih sandi saya ingin bpjs puruk terus tidak optimal beri solusi awat sehat\n",
      "\n",
      "972\n",
      "positive\n",
      "label asli negative\n",
      "salah besar sih pilih pak lembaga perintah bebas korupsi jual beli jabat\n",
      "\n",
      "973\n",
      "positive\n",
      "label asli negative\n",
      "milik banyak prestasi ada 47 prestasi milik salah satu cabut subsidi bbm\n",
      "\n",
      "980\n",
      "positive\n",
      "label asli negative\n",
      "bahas pancasila udah final organisasi transnasional ideologi radikal pernah singgung\n",
      "\n",
      "985\n",
      "positive\n",
      "label asli negative\n",
      "narasi utama pakai debat kali adalah narasi asing narasi anti asing memang erat topik debat\n",
      "\n",
      "987\n",
      "positive\n",
      "label asli negative\n",
      "pak emosi kalau bicara daulat aman nkri balik rakyat lindung\n",
      "\n",
      "991\n",
      "positive\n",
      "label asli negative\n",
      "oke oce bangkrut gagal tingkat daya beli masyarakat\n",
      "\n",
      "994\n",
      "positive\n",
      "label asli negative\n",
      "yang lemes nih kaya data salah ban semua pak prabowobentengnkri https t co 1yqfosvy7a\n",
      "\n",
      "998\n",
      "positive\n",
      "label asli negative\n",
      "bukan tidak percaya ini tni pak taruh nyawa tni lebih tni tni\n",
      "\n",
      "999\n",
      "positive\n",
      "label asli negative\n",
      "gemetar apes malam kata di bentak 2 jenderal prabowobentengnkri\n",
      "\n"
     ]
    }
   ],
   "source": [
    "ixx = 0\n",
    "labelA = list()\n",
    "labelP= list()\n",
    "\n",
    "for i, j in zip(label, x):\n",
    "    if i !=j:\n",
    "        print(ixx)\n",
    "        print(j)\n",
    "        print(\"label asli\",i)\n",
    "        print(twet[ixx])\n",
    "        print()\n",
    "    ixx+=1"
   ]
  },
  {
   "cell_type": "code",
   "execution_count": null,
   "metadata": {},
   "outputs": [],
   "source": []
  }
 ],
 "metadata": {
  "kernelspec": {
   "display_name": "Python 3",
   "language": "python",
   "name": "python3"
  },
  "language_info": {
   "codemirror_mode": {
    "name": "ipython",
    "version": 3
   },
   "file_extension": ".py",
   "mimetype": "text/x-python",
   "name": "python",
   "nbconvert_exporter": "python",
   "pygments_lexer": "ipython3",
   "version": "3.7.4"
  }
 },
 "nbformat": 4,
 "nbformat_minor": 2
}
