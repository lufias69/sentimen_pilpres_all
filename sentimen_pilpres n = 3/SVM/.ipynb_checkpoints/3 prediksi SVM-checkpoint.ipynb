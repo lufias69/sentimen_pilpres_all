{
 "cells": [
  {
   "cell_type": "code",
   "execution_count": 1,
   "metadata": {},
   "outputs": [],
   "source": [
    "import joblib\n",
    "import sys\n",
    "import os\n",
    "alamat = os.getcwd()\n",
    "# alamat_direktor_kerja = alamat#\"D:\\github\\python\\sentimen_pilpres\"\n",
    "sys.path.append(alamat+'/praproses')\n",
    "import ngrams as ng\n",
    "from normalisasi import normalisasi as nrm\n",
    "import token as tkn\n",
    "import stemming as stm\n",
    "import cleansing\n",
    "import isDigit as isd\n",
    "import stemming\n",
    "import seleksi_kata as sk\n",
    "import pandas as pd"
   ]
  },
  {
   "cell_type": "code",
   "execution_count": 2,
   "metadata": {},
   "outputs": [],
   "source": [
    "tdidf = joblib.load(\"model/tdidf.w\")\n",
    "svm = joblib.load(\"model/svm.m\")"
   ]
  },
  {
   "cell_type": "code",
   "execution_count": 3,
   "metadata": {},
   "outputs": [],
   "source": [
    "def praproses(twt, n=3):\n",
    "    twt = sk.seleksi(twt)\n",
    "    twt = cleansing.cleaning(twt)\n",
    "    twt = isd.remove_digit(twt)\n",
    "    twt = nrm.slangword(twt)\n",
    "    twt = stm.stemming(twt)\n",
    "    twt = stm.StopWordRemover(twt)\n",
    "    twt = ng.ngramku(twt, n=n)['string']\n",
    "    return twt"
   ]
  },
  {
   "cell_type": "markdown",
   "metadata": {},
   "source": [
    "# Prediksi 1 tweet"
   ]
  },
  {
   "cell_type": "code",
   "execution_count": 4,
   "metadata": {},
   "outputs": [
    {
     "data": {
      "text/plain": [
       "'negative'"
      ]
     },
     "execution_count": 4,
     "metadata": {},
     "output_type": "execute_result"
    }
   ],
   "source": [
    "kalimat = \"bangsat tidak tahu malu\"\n",
    "svm.predict(tdidf.transform([praproses(kalimat)]))[0]"
   ]
  },
  {
   "cell_type": "markdown",
   "metadata": {},
   "source": [
    "# Prediksi data uji Prediksi data uji [jokowi]"
   ]
  },
  {
   "cell_type": "code",
   "execution_count": 5,
   "metadata": {},
   "outputs": [
    {
     "name": "stdout",
     "output_type": "stream",
     "text": [
      "              precision    recall  f1-score   support\n",
      "\n",
      "    negative       0.71      0.67      0.69        15\n",
      "    positive       0.94      0.95      0.95        85\n",
      "\n",
      "    accuracy                           0.91       100\n",
      "   macro avg       0.83      0.81      0.82       100\n",
      "weighted avg       0.91      0.91      0.91       100\n",
      "\n"
     ]
    }
   ],
   "source": [
    "df = pd.read_excel(\"../data_uji/100 data jan-maret jokowi.xlsx\")\n",
    "twet_uji = df.message.tolist()\n",
    "label_asli = df.label.tolist()\n",
    "twet_uji_bersih = list()\n",
    "\n",
    "for ix, t in enumerate(twet_uji):\n",
    "    twet_uji_bersih.append(praproses(t))\n",
    "#     print(ix)\n",
    "prediksi = svm.predict(tdidf.transform(twet_uji_bersih))\n",
    "\n",
    "from sklearn.metrics import classification_report\n",
    "y_true = label_asli\n",
    "y_pred = prediksi\n",
    "target_names = ['negative', 'positive',]\n",
    "print(classification_report(y_true, y_pred, target_names=target_names))"
   ]
  },
  {
   "cell_type": "code",
   "execution_count": 6,
   "metadata": {
    "scrolled": true
   },
   "outputs": [
    {
     "name": "stdout",
     "output_type": "stream",
     "text": [
      "1\n",
      "Prediksi: positive\n",
      "asli    : negative\n",
      "     RT @basukids: @Gerindra @jokowi Anuuu... pemahamannya kurang eh..\n",
      "#PrabowoBentengNKRI\n",
      "====================================================================================================\n",
      "9\n",
      "Prediksi: positive\n",
      "asli    : negative\n",
      "     RT @gw_eilo: Malam Pak @jokowi Pak @prabowo saya izin tidur ya Pak, ngantuk, debatnya membosankan.\n",
      "====================================================================================================\n",
      "13\n",
      "Prediksi: negative\n",
      "asli    : positive\n",
      "     RT @CNNIDdaily: Capres nomor urut 01, @jokowi: Tapi masalah tuduh-menuduh saya kan juga banyak dituduh pak.\n",
      "\n",
      "#DebatCapres2019\n",
      "#DebatKeempat…\n",
      "====================================================================================================\n",
      "32\n",
      "Prediksi: negative\n",
      "asli    : positive\n",
      "     RT @AdaCeuceu: emang bangsad sih kalo ada yang masih meragukan keisalaman doi, wong @jokowi masuk kdalam track 50 muslim berpengaruh.\n",
      "====================================================================================================\n",
      "39\n",
      "Prediksi: negative\n",
      "asli    : positive\n",
      "     RT @trenzsolo: \"Pak Prabowo ini tidak percaya pada TNI kita !!\" Kick telak @jokowi atas pernyataan Prabowo soal pertahananan RI\n",
      "====================================================================================================\n",
      "41\n",
      "Prediksi: positive\n",
      "asli    : negative\n",
      "     RT @milenial_kaum: @kangdede78 @jokowi #PemerintahanDILAN makin mempermudah warganya, tidak seperti bapak sombong yang selalu mengulang masa lalu\n",
      "====================================================================================================\n",
      "44\n",
      "Prediksi: negative\n",
      "asli    : positive\n",
      "     RT @bseptian15: @TeddyGusnaidi @prabowo @Gerindra Sekarang berani tidak pak @Jokowi menolak pak Yusril masuk ke kubunya\n",
      "====================================================================================================\n",
      "80\n",
      "Prediksi: positive\n",
      "asli    : negative\n",
      "     RT @RigunDL: Ga akan ada Ideologi apapun selain Pancasila, dan Pakde @jokowi akan memberantas oknum2 yg mengganggu keutuhan manusia #Jokowi\n",
      "====================================================================================================\n",
      "87\n",
      "Prediksi: positive\n",
      "asli    : negative\n",
      "     RT @tampanakutu19: Ini debat wok, ngapa jadi curhat, yg dituduh di fitnah pak @jokowi ngapa owok yg sedih ckckc\n",
      "#PemerintahanDILAN\n",
      "====================================================================================================\n"
     ]
    }
   ],
   "source": [
    "ix = 0\n",
    "for twet, asli, pred in zip(twet_uji, label_asli,prediksi):\n",
    "    if pred!= asli:\n",
    "        print(ix)\n",
    "        print(\"Prediksi:\",pred)\n",
    "        print(\"asli    :\",asli)\n",
    "        print(\"    \",twet)\n",
    "        print(\"=\"*100)\n",
    "    ix+=1"
   ]
  },
  {
   "cell_type": "markdown",
   "metadata": {},
   "source": [
    "# Prediksi data uji [prabowo]"
   ]
  },
  {
   "cell_type": "code",
   "execution_count": 7,
   "metadata": {},
   "outputs": [
    {
     "name": "stdout",
     "output_type": "stream",
     "text": [
      "              precision    recall  f1-score   support\n",
      "\n",
      "    negative       0.83      0.56      0.67        36\n",
      "    positive       0.79      0.94      0.86        64\n",
      "\n",
      "    accuracy                           0.80       100\n",
      "   macro avg       0.81      0.75      0.76       100\n",
      "weighted avg       0.81      0.80      0.79       100\n",
      "\n"
     ]
    }
   ],
   "source": [
    "df = pd.read_excel(\"../data_uji/100 data jan-maret prabowo.xlsx\")\n",
    "twet_uji = df.message.tolist()\n",
    "label_asli = df.label.tolist()\n",
    "twet_uji_bersih = list()\n",
    "for t in twet_uji:\n",
    "    twet_uji_bersih.append(praproses(t))\n",
    "prediksi = svm.predict(tdidf.transform(twet_uji_bersih))\n",
    "\n",
    "from sklearn.metrics import classification_report\n",
    "y_true = label_asli\n",
    "y_pred = prediksi\n",
    "target_names = ['negative', 'positive',]\n",
    "print(classification_report(y_true, y_pred, target_names=target_names))"
   ]
  },
  {
   "cell_type": "code",
   "execution_count": 8,
   "metadata": {},
   "outputs": [
    {
     "name": "stdout",
     "output_type": "stream",
     "text": [
      "0\n",
      "Prediksi: positive\n",
      "asli    : negative\n",
      "     RT @manan_rusiana: @_54TRIYA_ @prabowo Bawaan emosi😀😀😀\n",
      "====================================================================================================\n",
      "3\n",
      "Prediksi: positive\n",
      "asli    : negative\n",
      "     RT @gw_eilo: Malam Pak @jokowi Pak @prabowo saya izin tidur ya Pak, ngantuk, debatnya membosankan...\n",
      "====================================================================================================\n",
      "5\n",
      "Prediksi: positive\n",
      "asli    : negative\n",
      "     RT @teresaracel: WAKAKAKAKAK gagal moveon di malam minggu nih si @prabowo #DebatPilpres2019 #DebatKeempatPilpres2019 #PemerintahanDILAN\n",
      "====================================================================================================\n",
      "15\n",
      "Prediksi: positive\n",
      "asli    : negative\n",
      "     RT @KasanMulyono: Prabowo: Apakah Pak Jkw tahu pendukung Bapak menuduh saya pendukung khilafah. \n",
      "\n",
      "#PrabowoBentengNKRI\n",
      "@prabowo @sandiuno\n",
      "====================================================================================================\n",
      "20\n",
      "Prediksi: positive\n",
      "asli    : negative\n",
      "     RT @Arlyanti2: @Wulan227 @kebabturkey_ @prabowo @sandiuno Kayaknya begitu. Pengen jatuhin lawan dgn Cara yg curang\n",
      "#PrabowoBentengNKRI \n",
      "====================================================================================================\n",
      "21\n",
      "Prediksi: positive\n",
      "asli    : negative\n",
      "     RT @katakitatweet: Tentang ideologi tanggapan netizen 56% NEGATIF artinya meragukan apa yg disampaikan @prabowo\n",
      "====================================================================================================\n",
      "23\n",
      "Prediksi: negative\n",
      "asli    : positive\n",
      "     RT @RajaGuguk14: @JackVardan @Zumpio Lupa bilang, si cebong diam dan mlongo. Rasanya berhasil saya ngegetok kepalanya. @prabowo itu bersih!\n",
      "====================================================================================================\n",
      "24\n",
      "Prediksi: positive\n",
      "asli    : negative\n",
      "     RT @kimmy_amali: #DebatPilpres2019\n",
      "Capres 02 kok MONOTON beud...\n",
      "Apapun Pertanyaannya, Minumnya teh botol sosro. \n",
      "@prabowo CapresANALog\n",
      "====================================================================================================\n",
      "25\n",
      "Prediksi: positive\n",
      "asli    : negative\n",
      "     RT @LaskarCikeas: admin @Gerindra tolong dong dibilangin ke ketumlo @prabowo ini debat bukan lagi ngobrol di warung kopi, \n",
      "====================================================================================================\n",
      "33\n",
      "Prediksi: positive\n",
      "asli    : negative\n",
      "     RT @Prasyudyo: Sebagai pekerja digital, gw sih ogah diajakin ke teknologi lama ama pak @prabowo maaf Pak, jika tidak mampu mengikuti perkembangan gak usah ngajakin\n",
      "====================================================================================================\n",
      "41\n",
      "Prediksi: positive\n",
      "asli    : negative\n",
      "     RT @Abta: @HeraLoebs @prabowo @sandiuno Duh yg kek gini dicurigai pulak radikal tahapahapa #PrabowoBentengNKRI\n",
      "====================================================================================================\n",
      "50\n",
      "Prediksi: negative\n",
      "asli    : positive\n",
      "     RT @yarham02: Untuk menjadi Benteng pertahanan Bangsa ini berat, kalian tdk akn mampu, biar @prabowo @sandiuno \n",
      "\n",
      "Teruji dlm setiap situasi.\n",
      "====================================================================================================\n",
      "55\n",
      "Prediksi: positive\n",
      "asli    : negative\n",
      "     RT @joxzin_jogja: @prabowo ini cocoknya hidup di tengah pulau, piara kuda. Mosok bangga dengan teknologi kuno.\n",
      "====================================================================================================\n",
      "61\n",
      "Prediksi: positive\n",
      "asli    : negative\n",
      "     RT @Lidabasah: Fixx @prabowo Jadi Capres abadi.\n",
      "\n",
      "Kenapa?\n",
      "\n",
      "Krna Ideologi dri ormas2 Pendukungnya tak sejalan dengan PANCASILA \n",
      "====================================================================================================\n",
      "69\n",
      "Prediksi: positive\n",
      "asli    : negative\n",
      "     RT @Mosthafavi: felixsiauw, bachtiar nasir, mardani ali sera kudu diberesin duluan tuh pak @prabowo \n",
      "\n",
      "mereka anti Pancasila lho pro ormas radikal\n",
      "====================================================================================================\n",
      "72\n",
      "Prediksi: positive\n",
      "asli    : negative\n",
      "     RT @Lidabasah: sementara Pak Jokowi memaparkan Visi Misi @prabowo malah ngaku2 Nasrani!!\n",
      "\n",
      "Ya Kan\n",
      "@GesuriID @jokowi @R_GUN4W4N \n",
      "====================================================================================================\n",
      "77\n",
      "Prediksi: negative\n",
      "asli    : positive\n",
      "     RT @PSD_313: Gw demen klo om @prabowo tegas gini 😂😂 mengkeret tuh boneka 😂\n",
      "\n",
      "#01CapresPendustaAbadi\n",
      "====================================================================================================\n",
      "79\n",
      "Prediksi: negative\n",
      "asli    : positive\n",
      "     RT @puthandini: gmn nih pak @prabowo milih metode lama? masa menolak perkembangan ekonomi untuk lebih maju lagi? dikasih yang mudah ko malah gak mau\n",
      "====================================================================================================\n",
      "81\n",
      "Prediksi: positive\n",
      "asli    : negative\n",
      "     RT @Herrreza: Semua program Prabowo ttg Ideologi Pancasila tidak Pantas dipercaya. @prabowo Tidak hapal Pancasila https://t.co/0cWlKe9i2i\n",
      "====================================================================================================\n",
      "87\n",
      "Prediksi: positive\n",
      "asli    : negative\n",
      "     RT @FandhuW89: .\n",
      "Pendukung Bapak @prabowo &amp; @sandiuno\"\n",
      "Adalah Kaum Radikal, Khilafah dan Intoleransi......\"\n",
      "\n",
      "Mana Para Jendral Pea itu ?!?\n",
      "====================================================================================================\n"
     ]
    }
   ],
   "source": [
    "ix = 0\n",
    "for twet, asli, pred in zip(twet_uji, label_asli,prediksi):\n",
    "    if pred!= asli:\n",
    "        print(ix)\n",
    "        print(\"Prediksi:\",pred)\n",
    "        print(\"asli    :\",asli)\n",
    "        print(\"    \",twet)\n",
    "        print(\"=\"*100)\n",
    "    ix+=1"
   ]
  },
  {
   "cell_type": "code",
   "execution_count": null,
   "metadata": {},
   "outputs": [],
   "source": []
  }
 ],
 "metadata": {
  "kernelspec": {
   "display_name": "Python 3",
   "language": "python",
   "name": "python3"
  },
  "language_info": {
   "codemirror_mode": {
    "name": "ipython",
    "version": 3
   },
   "file_extension": ".py",
   "mimetype": "text/x-python",
   "name": "python",
   "nbconvert_exporter": "python",
   "pygments_lexer": "ipython3",
   "version": "3.7.4"
  }
 },
 "nbformat": 4,
 "nbformat_minor": 2
}
